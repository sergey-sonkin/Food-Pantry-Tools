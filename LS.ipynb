{
 "cells": [
  {
   "cell_type": "code",
   "execution_count": 1,
   "metadata": {},
   "outputs": [],
   "source": [
    "import tabula\n",
    "import pandas as pd"
   ]
  },
  {
   "cell_type": "code",
   "execution_count": 2,
   "metadata": {},
   "outputs": [],
   "source": [
    "## Import data\n",
    "file1 = \"LS_2023_03.pdf\"\n",
    "tables = tabula.read_pdf(file1,pages=\"all\")\n",
    "## Combine into one table\n",
    "LS = pd.concat(tables)\n",
    "## Drop extra columns and rows\n",
    "LS = LS.drop(columns = [\"Customer Name\",\"Unnamed: 0\",\"Total Cost\"])\n",
    "LS = LS[LS.Transaction != \"Date\"]\n",
    "LS = LS.sort_values(\"Transaction\")\n",
    "## Break apart \"Quantity Item Number\" column\n",
    "LS[\"Weight\"] = [int(x.split(\" \")[0]) for x in LS[\"Quantity Item Number\"]]\n",
    "LS[\"Product\"] = [x.split(\" \")[1] for x in LS[\"Quantity Item Number\"]]\n",
    "LS = LS.drop(columns=[\"Quantity Item Number\"])"
   ]
  },
  {
   "cell_type": "code",
   "execution_count": 3,
   "metadata": {},
   "outputs": [],
   "source": [
    "## Create output sum table\n",
    "sums = LS.groupby([\"Transaction\",\"Product\"]).sum()\n",
    "out = sums.reset_index()"
   ]
  },
  {
   "cell_type": "code",
   "execution_count": 4,
   "metadata": {},
   "outputs": [],
   "source": [
    "## Create correct output format\n",
    "out[\"Date\"] = pd.to_datetime(out[\"Transaction\"])\n",
    "out[\"Type\"] = [\"food\" for _ in out[\"Weight\"]]\n",
    "out = out.sort_values(by=[\"Date\",\"Product\"],ascending=True)\n",
    "c = [\"Date\",\"Product\",\"Type\",\"Weight\"]\n",
    "out.to_csv(\"ls_m.csv\",date_format='%m/%d/%Y',index=False,columns=c)"
   ]
  }
 ],
 "metadata": {
  "kernelspec": {
   "display_name": "base",
   "language": "python",
   "name": "python3"
  },
  "language_info": {
   "codemirror_mode": {
    "name": "ipython",
    "version": 3
   },
   "file_extension": ".py",
   "mimetype": "text/x-python",
   "name": "python",
   "nbconvert_exporter": "python",
   "pygments_lexer": "ipython3",
   "version": "3.8.3"
  },
  "orig_nbformat": 4
 },
 "nbformat": 4,
 "nbformat_minor": 2
}
