{
 "cells": [
  {
   "cell_type": "code",
   "execution_count": null,
   "metadata": {},
   "outputs": [],
   "source": [
    "import numpy as np\n",
    "import pandas as pd\n",
    "\n",
    "df = pd.read_excel('Shopping History.xlsx',header=0,sheet_name=\"Shopping\") \n",
    "df = df[:-1] ## Delete last row with sum totals"
   ]
  },
  {
   "cell_type": "code",
   "execution_count": null,
   "metadata": {},
   "outputs": [],
   "source": [
    "sample_import = pd.read_excel('prev_month.xlsx',header=0,sheet_name=\"Sept\")[:-1]\n",
    "sample_import = sample_import.iloc[:, :-4]"
   ]
  },
  {
   "cell_type": "code",
   "execution_count": null,
   "metadata": {},
   "outputs": [],
   "source": [
    "sample_import[\"Group\"] = sample_import[\"Group\"].astype(str)\n",
    "sample_import[\"Section\"] = sample_import[\"Section\"].astype(str)"
   ]
  },
  {
   "cell_type": "code",
   "execution_count": null,
   "metadata": {},
   "outputs": [],
   "source": [
    "for ind in sample_import.index:\n",
    "    desc = sample_import['Description'][ind]\n",
    "    matches = df[df.Description == desc]\n",
    "    ## Retrieve group\n",
    "    try:\n",
    "        group = matches[\"Group\"].mode()[0]\n",
    "    except: \n",
    "        group = \"\"\n",
    "    ## Retrieve section\n",
    "    try:\n",
    "        section = matches[\"Section\"].mode()[0]\n",
    "    except:    \n",
    "        section = \"\"\n",
    "    ## If no section, get based off group\n",
    "    if section == \"\" and group != \"\":\n",
    "        same_group = df[df.Group == group]\n",
    "        try: \n",
    "            section = same_group[\"Section\"].mode()[0]\n",
    "        except:\n",
    "            section == \"\"\n",
    "    print(ind,group,section)\n",
    "    sample_import.at[ind,\"Group\"] = group\n",
    "    sample_import.at[ind,\"Section\"] = section"
   ]
  },
  {
   "cell_type": "code",
   "execution_count": null,
   "metadata": {},
   "outputs": [],
   "source": [
    "sample_import.to_csv(\"prev_month_to_verify.csv\",date_format='%m/%d/%Y',index=False)  "
   ]
  }
 ],
 "metadata": {
  "kernelspec": {
   "display_name": "Python 3.8.3 ('base')",
   "language": "python",
   "name": "python3"
  },
  "language_info": {
   "codemirror_mode": {
    "name": "ipython",
    "version": 3
   },
   "file_extension": ".py",
   "mimetype": "text/x-python",
   "name": "python",
   "nbconvert_exporter": "python",
   "pygments_lexer": "ipython3",
   "version": "3.8.3"
  },
  "orig_nbformat": 4,
  "vscode": {
   "interpreter": {
    "hash": "71f4cc5eb07bc0d3ebcedfacc2ab6af50243ce67f8422c9aca860a9f159ae015"
   }
  }
 },
 "nbformat": 4,
 "nbformat_minor": 2
}
